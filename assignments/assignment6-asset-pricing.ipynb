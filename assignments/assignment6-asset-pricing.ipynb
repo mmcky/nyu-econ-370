{
 "cells": [
  {
   "cell_type": "markdown",
   "metadata": {},
   "source": [
    "# Assignment \\#6: Asset Pricing\n",
    "\n",
    "**Due:** Monday 02nd May 2016 (by 9:00am)\n",
    "\n",
    "Please submit assignments to: \n",
    "\n",
    "> `econ370nyu@gmail.com` \n",
    "\n",
    "as a Jupyter notebook with your solutions."
   ]
  },
  {
   "cell_type": "code",
   "execution_count": null,
   "metadata": {
    "collapsed": true
   },
   "outputs": [],
   "source": [
    "%matplotlib inline\n",
    "import numpy as np"
   ]
  },
  {
   "cell_type": "markdown",
   "metadata": {},
   "source": [
    "#### Homework problems"
   ]
  },
  {
   "cell_type": "markdown",
   "metadata": {},
   "source": [
    "** Question \\#1 **\n",
    "\n",
    "Please study the Python function in the following cell.  \n",
    "\n",
    "Please assume that:\n",
    "\n",
    "* $P$ is an $n \\times n$ matrix of nonnegative numbers whose rows sum to 1\n",
    "\n",
    "* $x$ is an $n \\times 1$ vector\n",
    "\n",
    "* $y$ is another $n \\times 1$ vector\n",
    "\n",
    "**a.** Please explain what the following things mean:\n",
    "\n",
    "* $x * y$\n",
    "\n",
    "* $P @ x$\n",
    "\n",
    "* $cov$"
   ]
  },
  {
   "cell_type": "markdown",
   "metadata": {},
   "source": [
    "**{{ Please write your answer here in this markdown cell  }}**\n",
    "\n",
    "**x * y**\n",
    "\n",
    "\n",
    "**P@x**\n",
    "\n",
    "**$cov$**\n",
    "\n",
    "\n"
   ]
  },
  {
   "cell_type": "markdown",
   "metadata": {},
   "source": [
    "**b.** Please propose some words in English telling what the function does"
   ]
  },
  {
   "cell_type": "code",
   "execution_count": null,
   "metadata": {
    "collapsed": true
   },
   "outputs": [],
   "source": [
    "def covd(P,x,y):\n",
    "    \"\"\"\n",
    "    \n",
    "    \"\"\"\n",
    "    Ex = P @ x\n",
    "    Ey = P @ y\n",
    "    Exy = P @ (x*y)\n",
    "    cov = Exy - Ex*Ey\n",
    "    return cov"
   ]
  },
  {
   "cell_type": "markdown",
   "metadata": {},
   "source": [
    "** {{ answer here }} **"
   ]
  },
  {
   "cell_type": "markdown",
   "metadata": {},
   "source": [
    "-------------------------------------------------------------------------------------------------------------------"
   ]
  },
  {
   "cell_type": "markdown",
   "metadata": {
    "collapsed": true
   },
   "source": [
    "** Question \\#2 **\n",
    "\n",
    "In the next cell, we claim to generate a transition matrix 5 state Markov chain"
   ]
  },
  {
   "cell_type": "code",
   "execution_count": null,
   "metadata": {
    "collapsed": false
   },
   "outputs": [],
   "source": [
    "def create_disaster_probability(diag=0.9, alpha=0.01, n=5):\n",
    "    # Allocate for P\n",
    "    offdiag = (1 - diag - alpha)/(n-2)\n",
    "    P = np.ones((n, n)) * offdiag\n",
    "    \n",
    "    # Add to diag\n",
    "    P = P + np.eye(5)*(diag-offdiag)\n",
    "    \n",
    "    # Update last column\n",
    "    P[:, -1] = alpha\n",
    "    \n",
    "    # Last row\n",
    "    P[-1, :] = np.zeros(n)\n",
    "    P[-1, -1] = 0.5\n",
    "    P[-1, n//2] = 0.5\n",
    "    \n",
    "    return P\n",
    "\n",
    "P = create_disaster_probability(alpha=0.05)"
   ]
  },
  {
   "cell_type": "markdown",
   "metadata": {
    "collapsed": true
   },
   "source": [
    "**Please print out P and verify that it is a legitimate Markov transition matrix**"
   ]
  },
  {
   "cell_type": "code",
   "execution_count": null,
   "metadata": {
    "collapsed": false
   },
   "outputs": [],
   "source": []
  },
  {
   "cell_type": "markdown",
   "metadata": {},
   "source": [
    "--------------------------------------------------------------------------------------------------------------------"
   ]
  },
  {
   "cell_type": "markdown",
   "metadata": {},
   "source": [
    "**Question \\#3**\n",
    " \n",
    " \n",
    "A friend tells you that the price of an asset satisfies\n",
    "\n",
    "$$ p_t = E_t m_{t+1} E_t (c_{t+1} + p_{t+1}) + cov_t (m_{t+1}, c_{t+1} + p_{t+1}) \\quad (1) $$\n",
    "\n",
    "where $p_t = v_t c_t$\n",
    "\n",
    "* $v_t$ is a function of the Markov state at $t$\n",
    "\n",
    "and \n",
    "\n",
    "* $E_t x_{t+1}$ is the conditional expectation of $x_{t+1}$\n",
    "* $m_t$ is a function of the Markov state \n",
    "* $s_t$ is the Markov state\n",
    "* $P$ matrix is from Question \\#2 \n",
    " \n",
    "\n",
    "Three vectors m, v, and s are given by the successive **rows** of\n",
    "\n",
    "* $m=[0.45351474,0.4759072,0.5,0.52596976,2.]$,\n",
    "* $v=[1.11737826,1.15554868,1.19713735,1.24262496,2.09856868]$\n",
    "* $s=[1.05,1.025,1.,0.975,0.5]$\n",
    "\n",
    "Please interpret these three vectors as random variables.  \n",
    "\n",
    "Please **verify** that equation (1) holds with these values. (You'll have to write Python code to do this.)"
   ]
  },
  {
   "cell_type": "code",
   "execution_count": null,
   "metadata": {
    "collapsed": true
   },
   "outputs": [],
   "source": []
  },
  {
   "cell_type": "markdown",
   "metadata": {
    "collapsed": true
   },
   "source": [
    "-------------------------------------------------------------------------------------------------------------------"
   ]
  },
  {
   "cell_type": "markdown",
   "metadata": {},
   "source": [
    "**Question \\#4**\n",
    "\n",
    "#### Returns\n",
    "\n",
    "Returns are defined as $R_{t+1} = \\frac{v_{t+1} + s_{t+1}}{v_t}$.\n",
    "\n",
    "In our Markov setting, returns can be summarized by an $n \\times n$ matrix whose $i,j$th component\n",
    "is \n",
    "\n",
    "$$ R_{i,j} = \\frac{(v_j s_j + s_j)}{v_i} $$\n",
    "\n",
    "Please create the matrix $R$ and verify\n",
    "\n",
    "$$ 1 = E_t m_{t+1} E_t R_{t+1} + cov_t (m_{t+1}, R_{t+1}) $$"
   ]
  },
  {
   "cell_type": "code",
   "execution_count": null,
   "metadata": {
    "collapsed": true
   },
   "outputs": [],
   "source": []
  },
  {
   "cell_type": "markdown",
   "metadata": {},
   "source": [
    "#### Possibly helpful or harmful hint\n",
    "\n",
    "The following code is one person's attempt to answer this.\n",
    "\n",
    "* Do you think this code is correct?\n",
    "\n",
    "If can you do better?\n",
    "\n",
    "Please explain"
   ]
  },
  {
   "cell_type": "code",
   "execution_count": null,
   "metadata": {
    "collapsed": false
   },
   "outputs": [],
   "source": [
    "# Here is some code that implements the pseudo code R = (v*s + s)(tomorrow)/v(today)\n",
    "\n",
    "v=np.array([ 1.11737826,  1.15554868,  1.19713735,  1.24262496,  2.09856868])\n",
    "m=np.array([ 0.45351474,  0.4759072 ,  0.5       ,  0.52596976,  2.        ])\n",
    "s=np.array([ 1.05 ,  1.025,  1.   ,  0.975,  0.5  ])\n",
    "\n",
    "R1 = np.array((v*s + s)/v[0])\n",
    "R2 = np.array((v*s + s)/v[1])\n",
    "R3 = np.array((v*s + s)/v[2])\n",
    "R4 = np.array((v*s + s)/v[3])\n",
    "R5 = np.array((v*s + s)/v[4])\n",
    "\n",
    "R = np.vstack([R1,R2,R3,R4,R5])\n",
    "R"
   ]
  },
  {
   "cell_type": "code",
   "execution_count": null,
   "metadata": {
    "collapsed": true
   },
   "outputs": [],
   "source": []
  },
  {
   "cell_type": "markdown",
   "metadata": {},
   "source": [
    "An unnamed student in our class has said that she thinks the following code does\n",
    "the same thing and is \"better\". Do you agree?  Can you please explain how this code works?\n"
   ]
  },
  {
   "cell_type": "code",
   "execution_count": null,
   "metadata": {
    "collapsed": false
   },
   "outputs": [],
   "source": [
    "Rsf = np.reshape(v*s + s, (1, 5)) / np.reshape(v, (5, 1))\n",
    "Rsf"
   ]
  },
  {
   "cell_type": "code",
   "execution_count": null,
   "metadata": {
    "collapsed": true
   },
   "outputs": [],
   "source": []
  },
  {
   "cell_type": "markdown",
   "metadata": {},
   "source": [
    "-------------------------------------------------------------------------------------------------------------------"
   ]
  },
  {
   "cell_type": "markdown",
   "metadata": {},
   "source": [
    "**Question \\#5**\n",
    "\n",
    "Consider the problem in Question \\#3\n",
    "\n",
    "$$ p_t = E_t m_{t+1} E_t (c_{t+1} + p_{t+1}) + cov_t (m_{t+1}, c_{t+1} + p_{t+1}) \\quad (1) $$\n",
    "\n",
    "where $p_t = v_t c_t$\n",
    "\n",
    "* $v_t$ is a function of the Markov state at $t$\n",
    "\n",
    "and\n",
    " \n",
    "* $E_t x_{t+1}$ is the conditional expectation of $x_{t+1}$\n",
    "*  $m_t$ is a function of the Markov state \n",
    "*  $s_t$ is the Markov state\n",
    "* $P$ is the same as in Question \\#2\n",
    " \n",
    "\n",
    "Suppose you **only** know P, m, and s:\n",
    "\n",
    "* $m=[ 0.45351474,  0.4759072 ,  0.5       ,  0.52596976,  2.        ]$,\n",
    "* $s =[ 1.05 ,  1.025,  1.   ,  0.975,  0.5  ]$\n",
    "    \n",
    "How do you compute the vector $v$ which satisfies the asset pricing function? \n",
    "\n",
    "**Hint:** \n",
    "\n",
    "Check that your computed $v$ is equal to \n",
    "\n",
    "$v =[ 1.11737826,  1.15554868,  1.19713735,  1.24262496,  2.09856868]$]\n",
    "\n"
   ]
  },
  {
   "cell_type": "code",
   "execution_count": null,
   "metadata": {
    "collapsed": true
   },
   "outputs": [],
   "source": []
  }
 ],
 "metadata": {
  "kernelspec": {
   "display_name": "Python 3",
   "language": "python",
   "name": "python3"
  },
  "language_info": {
   "codemirror_mode": {
    "name": "ipython",
    "version": 3
   },
   "file_extension": ".py",
   "mimetype": "text/x-python",
   "name": "python",
   "nbconvert_exporter": "python",
   "pygments_lexer": "ipython3",
   "version": "3.5.1"
  }
 },
 
 "nbformat": 4,
 "nbformat_minor": 0
}
